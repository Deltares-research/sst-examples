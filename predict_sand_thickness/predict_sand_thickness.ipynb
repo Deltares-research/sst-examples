{
 "cells": [
  {
   "cell_type": "markdown",
   "metadata": {},
   "source": [
    "# Example of predicting sand thickness \n",
    "This example demonstrates how GeoST can be used to prepare data for predicting the\n",
    "total thickness of sand within the first 4 meters below the surface based on boreholes\n",
    "in the GDN database. The predictor will be trained on location (x/y coordinates), AHN \n",
    "elevation, geological map units and  geomorphological map units. For the prediction a \n",
    "gradient boost regressor algorithm will be employed, which is provided by the \n",
    "scikit-learn package.\n",
    "\n",
    "Let's first import geost and other required packages:"
   ]
  },
  {
   "cell_type": "code",
   "execution_count": 1,
   "metadata": {},
   "outputs": [],
   "source": [
    "from itertools import product\n",
    "from pathlib import Path\n",
    "\n",
    "import numpy as np\n",
    "import pandas as pd\n",
    "import geopandas as gpd\n",
    "from sklearn.ensemble import (\n",
    "    GradientBoostingRegressor,\n",
    ")\n",
    "from sklearn.model_selection import train_test_split\n",
    "from sklearn.metrics import mean_squared_error\n",
    "\n",
    "import matplotlib.pyplot as plt\n",
    "import xarray as xr\n",
    "\n",
    "import geost\n",
    "from geost.spatial import find_area_labels, get_raster_values\n",
    "from geost.utils import dataframe_to_geodataframe"
   ]
  },
  {
   "cell_type": "markdown",
   "metadata": {},
   "source": [
    "Let's check the version of GeoST we're on:"
   ]
  },
  {
   "cell_type": "code",
   "execution_count": 2,
   "metadata": {},
   "outputs": [
    {
     "name": "stdout",
     "output_type": "stream",
     "text": [
      "0.2.4\n"
     ]
    }
   ],
   "source": [
    "print(geost.__version__)"
   ]
  },
  {
   "cell_type": "markdown",
   "metadata": {},
   "source": [
    "These are the paths to the different data that we will use in this example:"
   ]
  },
  {
   "cell_type": "code",
   "execution_count": 3,
   "metadata": {},
   "outputs": [],
   "source": [
    "resource_folder = Path.cwd() / 'resources'\n",
    "\n",
    "study_area = resource_folder / 'study_area.shp'\n",
    "gdn_data_file = resource_folder / 'GDN_borehole_data.parquet'\n",
    "geological_map_file = resource_folder / 'BRO_geological_map.geoparquet'\n",
    "geomorphological_map_file = resource_folder / 'BRO_geomorphological_map.geoparquet'\n",
    "ahn_file = resource_folder / 'ahn.tif'\n"
   ]
  },
  {
   "cell_type": "markdown",
   "metadata": {},
   "source": [
    "# Data preparation with GeoST\n",
    "We will prepare the data first to make the appropriate selections, to add geological\n",
    "and geommorphological map information to the boreholes and of course to get our training\n",
    "target: the cumulative thickness of sand layers in the first 4 m."
   ]
  },
  {
   "cell_type": "code",
   "execution_count": 4,
   "metadata": {},
   "outputs": [
    {
     "name": "stdout",
     "output_type": "stream",
     "text": [
      "28628\n"
     ]
    }
   ],
   "source": [
    "gdn_data = geost.read_borehole_table(gdn_data_file)\n",
    "\n",
    "print(gdn_data.n_points)"
   ]
  },
  {
   "cell_type": "markdown",
   "metadata": {},
   "source": [
    "gdn_data is a `BoreholeCollection` containing 28628 boreholes. We will first select \n",
    "boreholes within the study area using the method `select_within_polygons`. Our study\n",
    "area shapefile contains one simple polygon, but more complex shapes and multiple\n",
    "polygons are also supported."
   ]
  },
  {
   "cell_type": "code",
   "execution_count": 5,
   "metadata": {},
   "outputs": [
    {
     "name": "stdout",
     "output_type": "stream",
     "text": [
      "20545\n"
     ]
    }
   ],
   "source": [
    "gdn_data_selection = gdn_data.select_within_polygons(study_area)\n",
    "\n",
    "print(gdn_data_selection.n_points)"
   ]
  },
  {
   "cell_type": "markdown",
   "metadata": {},
   "source": [
    "We now have 20545 boreholes left. Since we want to get the total thickness of sand \n",
    "within the first 4 m to train the model, we also need to select boreholes that are at \n",
    "least 4 m in length, because otherwise we will get an unwanted bias in our target data.\n",
    "In addition we will cut off boreholes at 4 m, so all boreholes in the collection will be\n",
    "exactly 4 m in length."
   ]
  },
  {
   "cell_type": "code",
   "execution_count": 6,
   "metadata": {},
   "outputs": [
    {
     "name": "stdout",
     "output_type": "stream",
     "text": [
      "17574\n"
     ]
    }
   ],
   "source": [
    "gdn_data_selection = gdn_data_selection.select_by_length(min_length=4)\n",
    "gdn_data_selection = gdn_data_selection.slice_depth_interval(0, 4)\n",
    "\n",
    "print(gdn_data_selection.n_points)"
   ]
  },
  {
   "cell_type": "markdown",
   "metadata": {},
   "source": [
    "This is our final filter, so we will be working with these 17574 boreholes. Next, we \n",
    "calculate the total thickness of sand within each borehole using the `get_cumulative_layer_thickness` method. \n",
    "These will be our target values to predict in the machine learning model!"
   ]
  },
  {
   "cell_type": "code",
   "execution_count": 7,
   "metadata": {},
   "outputs": [],
   "source": [
    "# In the data column 'lith', calculate cumulative thickness of layers labelled 'Z' (sand)\n",
    "# and include the results in the header table.\n",
    "gdn_data_selection.get_cumulative_layer_thickness(\"lith\", \"Z\", include_in_header=True)"
   ]
  },
  {
   "cell_type": "markdown",
   "metadata": {},
   "source": [
    "The header table should now include a column called 'Z_thickness', let's check that:"
   ]
  },
  {
   "cell_type": "code",
   "execution_count": 8,
   "metadata": {},
   "outputs": [
    {
     "data": {
      "text/html": [
       "<div>\n",
       "<style scoped>\n",
       "    .dataframe tbody tr th:only-of-type {\n",
       "        vertical-align: middle;\n",
       "    }\n",
       "\n",
       "    .dataframe tbody tr th {\n",
       "        vertical-align: top;\n",
       "    }\n",
       "\n",
       "    .dataframe thead th {\n",
       "        text-align: right;\n",
       "    }\n",
       "</style>\n",
       "<table border=\"1\" class=\"dataframe\">\n",
       "  <thead>\n",
       "    <tr style=\"text-align: right;\">\n",
       "      <th></th>\n",
       "      <th>nr</th>\n",
       "      <th>Z_thickness</th>\n",
       "    </tr>\n",
       "  </thead>\n",
       "  <tbody>\n",
       "    <tr>\n",
       "      <th>0</th>\n",
       "      <td>B38A0048</td>\n",
       "      <td>0.00</td>\n",
       "    </tr>\n",
       "    <tr>\n",
       "      <th>1</th>\n",
       "      <td>B38A0050</td>\n",
       "      <td>0.00</td>\n",
       "    </tr>\n",
       "    <tr>\n",
       "      <th>2</th>\n",
       "      <td>B38A0239</td>\n",
       "      <td>0.00</td>\n",
       "    </tr>\n",
       "    <tr>\n",
       "      <th>3</th>\n",
       "      <td>B38A0241</td>\n",
       "      <td>0.00</td>\n",
       "    </tr>\n",
       "    <tr>\n",
       "      <th>4</th>\n",
       "      <td>B38A0254</td>\n",
       "      <td>0.00</td>\n",
       "    </tr>\n",
       "    <tr>\n",
       "      <th>...</th>\n",
       "      <td>...</td>\n",
       "      <td>...</td>\n",
       "    </tr>\n",
       "    <tr>\n",
       "      <th>17569</th>\n",
       "      <td>B45A2789</td>\n",
       "      <td>1.42</td>\n",
       "    </tr>\n",
       "    <tr>\n",
       "      <th>17570</th>\n",
       "      <td>B45A2790</td>\n",
       "      <td>1.80</td>\n",
       "    </tr>\n",
       "    <tr>\n",
       "      <th>17571</th>\n",
       "      <td>B45A2792</td>\n",
       "      <td>0.30</td>\n",
       "    </tr>\n",
       "    <tr>\n",
       "      <th>17572</th>\n",
       "      <td>B45A2794</td>\n",
       "      <td>0.90</td>\n",
       "    </tr>\n",
       "    <tr>\n",
       "      <th>17573</th>\n",
       "      <td>B45A2795</td>\n",
       "      <td>3.05</td>\n",
       "    </tr>\n",
       "  </tbody>\n",
       "</table>\n",
       "<p>17574 rows × 2 columns</p>\n",
       "</div>"
      ],
      "text/plain": [
       "             nr  Z_thickness\n",
       "0      B38A0048         0.00\n",
       "1      B38A0050         0.00\n",
       "2      B38A0239         0.00\n",
       "3      B38A0241         0.00\n",
       "4      B38A0254         0.00\n",
       "...         ...          ...\n",
       "17569  B45A2789         1.42\n",
       "17570  B45A2790         1.80\n",
       "17571  B45A2792         0.30\n",
       "17572  B45A2794         0.90\n",
       "17573  B45A2795         3.05\n",
       "\n",
       "[17574 rows x 2 columns]"
      ]
     },
     "execution_count": 8,
     "metadata": {},
     "output_type": "execute_result"
    }
   ],
   "source": [
    "gdn_data_selection.header[[\"nr\", \"Z_thickness\"]]"
   ]
  },
  {
   "cell_type": "markdown",
   "metadata": {},
   "source": [
    "As we will use features from the geological and geomorphological map, we will now add\n",
    "the geological and geomorphological areas in which our data points are located to the \n",
    "header dataframe using the built-in `get_area_labels` method:"
   ]
  },
  {
   "cell_type": "code",
   "execution_count": 9,
   "metadata": {},
   "outputs": [],
   "source": [
    "# Read it like: from the geological map, get the value in the field \"CODE\" and add\n",
    "# it to the header.\n",
    "gdn_data_selection.get_area_labels(geological_map_file, \"CODE\", include_in_header=True)\n",
    "gdn_data_selection.get_area_labels(\n",
    "    geomorphological_map_file, \"landformsubgroup_code\", include_in_header=True\n",
    ")"
   ]
  },
  {
   "cell_type": "markdown",
   "metadata": {},
   "source": [
    "You can check that the columns \"CODE\" (geological map unit codes) and \"landformsubgroup_code\"\n",
    "(geomorphological map unit codes) were added to each borehole in the header table:"
   ]
  },
  {
   "cell_type": "code",
   "execution_count": 10,
   "metadata": {},
   "outputs": [
    {
     "data": {
      "text/html": [
       "<div>\n",
       "<style scoped>\n",
       "    .dataframe tbody tr th:only-of-type {\n",
       "        vertical-align: middle;\n",
       "    }\n",
       "\n",
       "    .dataframe tbody tr th {\n",
       "        vertical-align: top;\n",
       "    }\n",
       "\n",
       "    .dataframe thead th {\n",
       "        text-align: right;\n",
       "    }\n",
       "</style>\n",
       "<table border=\"1\" class=\"dataframe\">\n",
       "  <thead>\n",
       "    <tr style=\"text-align: right;\">\n",
       "      <th></th>\n",
       "      <th>nr</th>\n",
       "      <th>CODE</th>\n",
       "      <th>landformsubgroup_code</th>\n",
       "    </tr>\n",
       "  </thead>\n",
       "  <tbody>\n",
       "    <tr>\n",
       "      <th>0</th>\n",
       "      <td>B38A0048</td>\n",
       "      <td>kvo*</td>\n",
       "      <td>M81</td>\n",
       "    </tr>\n",
       "    <tr>\n",
       "      <th>1</th>\n",
       "      <td>B38A0050</td>\n",
       "      <td>kvo*</td>\n",
       "      <td>M81</td>\n",
       "    </tr>\n",
       "    <tr>\n",
       "      <th>2</th>\n",
       "      <td>B38A0239</td>\n",
       "      <td>kvo*</td>\n",
       "      <td>M81</td>\n",
       "    </tr>\n",
       "    <tr>\n",
       "      <th>3</th>\n",
       "      <td>B38A0241</td>\n",
       "      <td>kvo*</td>\n",
       "      <td>M81</td>\n",
       "    </tr>\n",
       "    <tr>\n",
       "      <th>4</th>\n",
       "      <td>B38A0254</td>\n",
       "      <td>kvo*</td>\n",
       "      <td>M81</td>\n",
       "    </tr>\n",
       "    <tr>\n",
       "      <th>...</th>\n",
       "      <td>...</td>\n",
       "      <td>...</td>\n",
       "      <td>...</td>\n",
       "    </tr>\n",
       "    <tr>\n",
       "      <th>17569</th>\n",
       "      <td>B45A2789</td>\n",
       "      <td>k</td>\n",
       "      <td>H43</td>\n",
       "    </tr>\n",
       "    <tr>\n",
       "      <th>17570</th>\n",
       "      <td>B45A2790</td>\n",
       "      <td>b</td>\n",
       "      <td>L42</td>\n",
       "    </tr>\n",
       "    <tr>\n",
       "      <th>17571</th>\n",
       "      <td>B45A2792</td>\n",
       "      <td>k</td>\n",
       "      <td>NaN</td>\n",
       "    </tr>\n",
       "    <tr>\n",
       "      <th>17572</th>\n",
       "      <td>B45A2794</td>\n",
       "      <td>k</td>\n",
       "      <td>NaN</td>\n",
       "    </tr>\n",
       "    <tr>\n",
       "      <th>17573</th>\n",
       "      <td>B45A2795</td>\n",
       "      <td>k</td>\n",
       "      <td>NaN</td>\n",
       "    </tr>\n",
       "  </tbody>\n",
       "</table>\n",
       "<p>17574 rows × 3 columns</p>\n",
       "</div>"
      ],
      "text/plain": [
       "             nr  CODE landformsubgroup_code\n",
       "0      B38A0048  kvo*                   M81\n",
       "1      B38A0050  kvo*                   M81\n",
       "2      B38A0239  kvo*                   M81\n",
       "3      B38A0241  kvo*                   M81\n",
       "4      B38A0254  kvo*                   M81\n",
       "...         ...   ...                   ...\n",
       "17569  B45A2789     k                   H43\n",
       "17570  B45A2790     b                   L42\n",
       "17571  B45A2792     k                   NaN\n",
       "17572  B45A2794     k                   NaN\n",
       "17573  B45A2795     k                   NaN\n",
       "\n",
       "[17574 rows x 3 columns]"
      ]
     },
     "execution_count": 10,
     "metadata": {},
     "output_type": "execute_result"
    }
   ],
   "source": [
    "gdn_data_selection.header[[\"nr\", \"CODE\", \"landformsubgroup_code\"]]"
   ]
  },
  {
   "cell_type": "markdown",
   "metadata": {},
   "source": [
    "# Applying the gradient boost regressor\n",
    "We have now done all the neccessary preparation of our borehole data. Next we will\n",
    "create dataframes for training features and the target values. One of the things we need \n",
    "to do for that is to apply one-hot encoding to the geological and geomorphological map\n",
    "features. This will turn the unique strings into columns with 0 or 1 values, which is\n",
    "required for most machine learning algorithms."
   ]
  },
  {
   "cell_type": "code",
   "execution_count": 11,
   "metadata": {},
   "outputs": [],
   "source": [
    "# Apply one-hot encoding\n",
    "data_encoded_geology = pd.get_dummies(gdn_data_selection.header.gdf.loc[:, \"CODE\"])\n",
    "data_encoded_morphology = pd.get_dummies(\n",
    "    gdn_data_selection.header.gdf.loc[:, \"landformsubgroup_code\"]\n",
    ")\n",
    "\n",
    "# Extract features from the borehole header and join with one-hot encoded geological\n",
    "# and geomorphological feature columns\n",
    "features = gdn_data_selection.header[\n",
    "    [\n",
    "        \"x\",\n",
    "        \"y\",\n",
    "        \"surface\",\n",
    "    ]\n",
    "]\n",
    "features = features.join(data_encoded_geology).join(data_encoded_morphology)\n",
    "\n",
    "# Get target values from the borehole header (the Z_thickness column)\n",
    "targets = gdn_data_selection.header[\"Z_thickness\"]\n",
    "\n",
    "\n",
    "# Split the features and targets into training and testing sets (80/20)\n",
    "features_train, features_test, targets_train, targets_test = train_test_split(\n",
    "    features,\n",
    "    targets,\n",
    "    test_size=0.2,\n",
    ")"
   ]
  },
  {
   "cell_type": "markdown",
   "metadata": {},
   "source": [
    "We will now create a gradient boost regressor and train it using our features_train and\n",
    "targets_train"
   ]
  },
  {
   "cell_type": "code",
   "execution_count": 12,
   "metadata": {},
   "outputs": [
    {
     "name": "stdout",
     "output_type": "stream",
     "text": [
      "      Iter       Train Loss   Remaining Time \n",
      "         1           1.0038           22.61s\n",
      "         2           0.9810           20.20s\n",
      "         3           0.9589           19.62s\n",
      "         4           0.9377           19.92s\n",
      "         5           0.9174           19.47s\n",
      "         6           0.8982           18.82s\n",
      "         7           0.8794           18.10s\n",
      "         8           0.8611           17.54s\n",
      "         9           0.8436           16.97s\n",
      "        10           0.8269           16.51s\n",
      "        20           0.6867           14.24s\n",
      "        30           0.5850           13.91s\n",
      "        40           0.5081           13.11s\n",
      "        50           0.4540           12.60s\n",
      "        60           0.4092           12.44s\n",
      "        70           0.3751           12.04s\n",
      "        80           0.3475           11.38s\n",
      "        90           0.3252           10.80s\n",
      "       100           0.3072           10.14s\n"
     ]
    }
   ],
   "source": [
    "# Create the scikit-learn gradient boosting regressor with given hyperparameters\n",
    "gb_model = GradientBoostingRegressor(\n",
    "    n_estimators=300,\n",
    "    min_samples_split=4,\n",
    "    min_samples_leaf=2,\n",
    "    min_impurity_decrease=0.01,\n",
    "    verbose=1,\n",
    "    learning_rate=0.02,\n",
    "    max_depth=10,\n",
    "    validation_fraction=0.1,\n",
    "    n_iter_no_change=10,\n",
    "    tol=10e-6,\n",
    ")\n",
    "\n",
    "# Fit the model using test features and targets (80% of the dataset)\n",
    "gb_model.fit(features_train, targets_train)\n",
    "\n",
    "# Predict sand thickness based on test features (20% of the dataset)\n",
    "targets_predicted = gb_model.predict(features_test)"
   ]
  },
  {
   "cell_type": "markdown",
   "metadata": {},
   "source": [
    "Let's see how it performed by checking the mean-square-error of the differences\n",
    "between targets_predicted and targets_test:"
   ]
  },
  {
   "cell_type": "code",
   "execution_count": 13,
   "metadata": {},
   "outputs": [
    {
     "name": "stdout",
     "output_type": "stream",
     "text": [
      "0.6145937185047103\n"
     ]
    }
   ],
   "source": [
    "mse = mean_squared_error(targets_test, targets_predicted)\n",
    "print(mse)"
   ]
  },
  {
   "cell_type": "markdown",
   "metadata": {},
   "source": [
    "Some more advanced analysis of the model performance can be done by checking the mean\n",
    "decrease in impurity. This is a decision-tree performance metric that indicates how\n",
    "effective training features are at improving the predicted value when this feature is \n",
    "used to split a node into new leaves. You can essentially interpret the MDI as 'feature\n",
    "importance'"
   ]
  },
  {
   "cell_type": "code",
   "execution_count": 14,
   "metadata": {},
   "outputs": [
    {
     "data": {
      "image/png": "[encoded data removed]",
      "text/plain": [
       "<Figure size 640x480 with 1 Axes>"
      ]
     },
     "metadata": {},
     "output_type": "display_data"
    }
   ],
   "source": [
    "# Evaluate the model (Impurity decrease / feature importance) by plotting the MDI of the\n",
    "# 10 most important features.\n",
    "importance = pd.Series(gb_model.feature_importances_, index=features.columns)\n",
    "fig, ax = plt.subplots()\n",
    "importance.sort_values()[-10:][::-1].plot.bar(ax=ax)\n",
    "ax.set_title(\"10 most important features for predicting thickness of sand\")\n",
    "ax.set_ylabel(\"Mean decrease in impurity\")\n",
    "fig.tight_layout()"
   ]
  },
  {
   "cell_type": "markdown",
   "metadata": {},
   "source": [
    "As you can see, the y-coordinate is the most important discriminator, followed by x and\n",
    "surface height. The geological map unit 'k' (floodplain) is also important as it\n",
    "typically indicates more clay/peat and less sand in the subsurface, whereas the\n",
    "geomorphological unit 'B44' (channel belt) is indicative of more sand in the shallow\n",
    "subsurface!"
   ]
  },
  {
   "cell_type": "markdown",
   "metadata": {},
   "source": [
    "# Advanced use: making a map\n",
    "The fitted model can be used to predict the thickness of sand for any combination of x-,\n",
    "y-location, surface elevation and geological+geomorphological map units. In this more\n",
    "advanced section we will create a regular grid of points for which we will run the\n",
    "prediction using our previously fitted gradient boosting model and then turn the result\n",
    "in a raster. We will also be using some (spatial) utility function of GeoST.\n",
    "\n",
    "We will first define a grid and put all the query points in a pandas DataFrame:"
   ]
  },
  {
   "cell_type": "code",
   "execution_count": 15,
   "metadata": {},
   "outputs": [],
   "source": [
    "# Grid data\n",
    "xmin = 131000\n",
    "xmax = 145000\n",
    "ymin = 421000\n",
    "ymax = 435000\n",
    "resolution = 100\n",
    "\n",
    "# x and y coordinate arrays\n",
    "x_coors = np.arange(xmin, xmax, resolution)\n",
    "y_coors = np.arange(ymin, ymax, resolution)\n",
    "\n",
    "# Create array with all possible combinations of x and y coordinates and fit in a \n",
    "# pandas.DataFrame\n",
    "query_points = np.array([(x, y) for x, y in product(x_coors, y_coors)])\n",
    "query_points = pd.DataFrame(query_points, columns=(\"x\", \"y\"))"
   ]
  },
  {
   "cell_type": "markdown",
   "metadata": {},
   "source": [
    "We will now use some GeoST functions to sample the AHN elevation map at the query_points\n",
    "(`geost.spatial.get_raster_values`)y, to turn a normal dataframe with columns containing \n",
    "coordinates into a geopandas Geodataframe containing geometries (`geost.utils.dataframe_to_geodataframe`)\n",
    "and to assign geological and geomorphological map unit labels to the query_points (`geost.spatial.find_area_labels`)."
   ]
  },
  {
   "cell_type": "code",
   "execution_count": 17,
   "metadata": {},
   "outputs": [],
   "source": [
    "# Use the get_raster_values function to sample from the AHN elevation map:\n",
    "query_points[\"mv\"] = get_raster_values(query_points[\"x\"], query_points[\"y\"], ahn_file)\n",
    "\n",
    "# In order to add geological and geomorphological map units to the query_points\n",
    "# dataframe we need to turn it into a geodataframe. Luckily we already have the x- and\n",
    "# y-coordinates in the dataframe, so we can use the handy GeoST function\n",
    "# 'dataframe_to_geodataframe' to do so and then use the find_area_labels function to add\n",
    "# geological and geomorphological map unit labels.\n",
    "query_points = dataframe_to_geodataframe(query_points, crs=28992)\n",
    "query_points[\"CODE\"] = find_area_labels(query_points, gpd.read_parquet(geological_map_file), \"CODE\")\n",
    "query_points[\"landformsubgroup_code\"] = find_area_labels(\n",
    "    query_points, gpd.read_parquet(geomorphological_map_file), \"landformsubgroup_code\"\n",
    ")"
   ]
  },
  {
   "cell_type": "markdown",
   "metadata": {},
   "source": [
    "We will create two helper functions that we need to fill the grid of query points with\n",
    "predicted values:"
   ]
  },
  {
   "cell_type": "code",
   "execution_count": 18,
   "metadata": {},
   "outputs": [],
   "source": [
    "# Function to turn a string into the correct encoding\n",
    "def string_to_encoded_array(row: pd.Series, column: str, encoding: pd.DataFrame):\n",
    "    \"\"\"\n",
    "    Turn a string into encoding based on known one-hot encoding\n",
    "    \"\"\"\n",
    "    string = row[column]\n",
    "    result = [True if string == col else False for col in encoding]\n",
    "    return result\n",
    "\n",
    "# Function that can be applied to query points with feature data and returns predicted\n",
    "# target values based a the given (fitted) scikit-learn machine learning model.\n",
    "def model_predictions(\n",
    "    ml_model,\n",
    "    query_points,\n",
    "    numerical_features: list = [],\n",
    "    encoded_features: dict = {},\n",
    "    min_allowed_value: int | float = 0,\n",
    "    max_allowed_value: int | float = np.inf,\n",
    ") -> np.ndarray:\n",
    "    \"\"\"\n",
    "    Function to predict target values based on a scikit-learn trained ML-model at query\n",
    "    points (e.g. a grid of points).\n",
    "\n",
    "    Parameters\n",
    "    ----------\n",
    "    ml_model : sklearn.ensemble model\n",
    "        scikit-learn fitted ensemble regressor model\n",
    "    query_points : pd.DataFrame\n",
    "        Pandas DataFrame with labelled columns for each feature that was used to train\n",
    "        the ml_model on (and will thus be used for the predictions)\n",
    "    numerical_features : list, optional\n",
    "        List of numerical feature labels in query_points, by default []\n",
    "    encoded_features : dict, optional\n",
    "        Encoded feature labels in query points, mapped to the one-hot encoded dataframe\n",
    "        for this feature, by default {}\n",
    "    min_allowed_value : int | float, optional\n",
    "        Minimum value to predict. If predicted value is lower it is forced to this\n",
    "        min_allowed_value. By default 0.\n",
    "    max_allowed_value : int | float, optional\n",
    "        Maximum value to predict. If predicted value is higher it is forced to this\n",
    "        max_allowed_value. By default np.inf\n",
    "\n",
    "    Returns\n",
    "    -------\n",
    "    np.ndarray\n",
    "        Numpy array with prediction results\n",
    "    \"\"\"\n",
    "    predictions = []\n",
    "    feature_labels = numerical_features\n",
    "\n",
    "    for key, encodings in encoded_features.items():\n",
    "        query_points[encodings.columns] = query_points.apply(\n",
    "            string_to_encoded_array,\n",
    "            args=(key, encodings.columns),\n",
    "            axis=1,\n",
    "            result_type=\"expand\",\n",
    "        )\n",
    "        feature_labels += list(encodings.columns)\n",
    "\n",
    "    predictions = ml_model.predict(query_points[feature_labels].values)\n",
    "    predictions[predictions < min_allowed_value] = min_allowed_value\n",
    "    predictions[predictions > max_allowed_value] = max_allowed_value\n",
    "\n",
    "    return predictions"
   ]
  },
  {
   "cell_type": "markdown",
   "metadata": {},
   "source": [
    "With the help of the `model_predictions` function, we will predict the total thickness\n",
    "of sand using the fitted gradient boosting regressor for all query points."
   ]
  },
  {
   "cell_type": "code",
   "execution_count": 19,
   "metadata": {},
   "outputs": [
    {
     "name": "stderr",
     "output_type": "stream",
     "text": [
      "c:\\Users\\onselen\\Development\\sst-examples\\.pixi\\envs\\default\\Lib\\site-packages\\sklearn\\base.py:493: UserWarning: X does not have valid feature names, but GradientBoostingRegressor was fitted with feature names\n",
      "  warnings.warn(\n"
     ]
    }
   ],
   "source": [
    "query_points[\"predicted_z_thickness\"] = model_predictions(\n",
    "    gb_model,\n",
    "    query_points,\n",
    "    numerical_features=[\"x\", \"y\", \"mv\"],\n",
    "    encoded_features={\n",
    "        \"CODE\": data_encoded_geology,\n",
    "        \"landformsubgroup_code\": data_encoded_morphology,\n",
    "    },\n",
    "    min_allowed_value=0,\n",
    "    max_allowed_value=4,\n",
    ")"
   ]
  },
  {
   "cell_type": "markdown",
   "metadata": {},
   "source": [
    "Next we reshape query_points to a 2D array and turn it into an Xarray.DataArray with\n",
    "labelled coordinates"
   ]
  },
  {
   "cell_type": "code",
   "execution_count": 21,
   "metadata": {},
   "outputs": [],
   "source": [
    "predicted_z_thickness_array = query_points[\"predicted_z_thickness\"].values.reshape((len(x_coors), len(y_coors)))\n",
    "predicted_z_thickness_da = xr.DataArray(predicted_z_thickness_array, \n",
    "                                        coords={\"x\": x_coors, \"y\": y_coors}\n",
    "                                        ).transpose(\"y\", \"x\")"
   ]
  },
  {
   "cell_type": "markdown",
   "metadata": {},
   "source": [
    "Finally, let's visualize the results"
   ]
  },
  {
   "cell_type": "code",
   "execution_count": 22,
   "metadata": {},
   "outputs": [
    {
     "data": {
      "image/png": "[encoded data removed]",
      "text/plain": [
       "<Figure size 640x480 with 2 Axes>"
      ]
     },
     "metadata": {},
     "output_type": "display_data"
    }
   ],
   "source": [
    "predicted_z_thickness_da.plot.imshow(vmin=0, vmax=2)\n",
    "plt.show()"
   ]
  },
  {
   "cell_type": "markdown",
   "metadata": {},
   "source": [
    "You can clearly see the relation between the predicted sand thickness and certain \n",
    "geological and geomorphological units!\n"
   ]
  }
 ],
 "metadata": {
  "kernelspec": {
   "display_name": "default",
   "language": "python",
   "name": "python3"
  },
  "language_info": {
   "codemirror_mode": {
    "name": "ipython",
    "version": 3
   },
   "file_extension": ".py",
   "mimetype": "text/x-python",
   "name": "python",
   "nbconvert_exporter": "python",
   "pygments_lexer": "ipython3",
   "version": "3.12.5"
  }
 },
 "nbformat": 4,
 "nbformat_minor": 2
}
