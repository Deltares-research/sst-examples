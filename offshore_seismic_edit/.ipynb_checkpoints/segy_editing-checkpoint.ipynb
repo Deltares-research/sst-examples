{
 "cells": [
  {
   "cell_type": "markdown",
   "id": "3a396648",
   "metadata": {},
   "source": [
    "# Tutorial seg-y editing using deltaseis\n",
    "\n",
    "In this tutorial we will load a seg-y file and performs several edits to it before writing the results to a copy of this seg-y file. The operatations we will go through are:\n",
    "- setting a new record lengths to reduce data volume\n",
    "- fix navigation of spike or erroneous values if there are any\n",
    "- perform a coordinate transformation to the meta data of the seg-y file\n",
    "- import bathymetric depths from an ASCII grid\n",
    "- pick the depth of the seabed reflector\n",
    "- apply heave correction by applying static currections \n",
    "- apply a tide and sensor depth correction to reduce the seismic datum to mean sea level (MSL)\n",
    "- apply several edits to the trace header meta data, to clean up the data to industry standard seg-y rev1, that is readily imported in any interpretation software like Kingdom or Petrel\n",
    "- write the result to file\n",
    "\n",
    "For most of the steps we will plot the intermediate results for QC."
   ]
  },
  {
   "cell_type": "markdown",
   "id": "8fbe843c",
   "metadata": {},
   "source": [
    "As a first step we make the necessary imports and set the path to the seg-y file under investigation "
   ]
  },
  {
   "cell_type": "code",
   "execution_count": 1,
   "id": "1e2be986-7713-4842-9375-c9726a2919aa",
   "metadata": {},
   "outputs": [],
   "source": [
    "## set VScode supported backend for matplotlib\n",
    "%matplotlib inline\n",
    "\n",
    "from importlib import resources\n",
    "from pathlib import Path\n",
    "\n",
    "import deltaseis\n",
    "from deltaseis import Segy_edit\n"
   ]
  },
  {
   "cell_type": "code",
   "execution_count": 2,
   "id": "f9c2e93e-8e3b-4c4c-9514-c80e6f86afb4",
   "metadata": {},
   "outputs": [],
   "source": [
    "data_folder = Path(resources.files('deltaseis.data')) # refer to deltaseis data folder\n",
    "\n",
    "segy_file = data_folder / \"bergen0111a.sgy\"         # set the path of the seg-y file to be edited"
   ]
  },
  {
   "cell_type": "markdown",
   "id": "6a487d48-94eb-4ab1-9afc-fa0466e36288",
   "metadata": {},
   "source": [
    "Now we open an instance of Segy_edit class. Since this instance relates to a line of the Bergen seismic data set, let's call it bergen."
   ]
  },
  {
   "cell_type": "code",
   "execution_count": 3,
   "id": "7b5b3e72-2ba9-4295-9344-d7080795283a",
   "metadata": {},
   "outputs": [
    {
     "ename": "FileNotFoundError",
     "evalue": "[Errno 2] No such file or directory",
     "output_type": "error",
     "traceback": [
      "\u001b[1;31m---------------------------------------------------------------------------\u001b[0m",
      "\u001b[1;31mFileNotFoundError\u001b[0m                         Traceback (most recent call last)",
      "Cell \u001b[1;32mIn[3], line 1\u001b[0m\n\u001b[1;32m----> 1\u001b[0m bergen \u001b[38;5;241m=\u001b[39m \u001b[43mSegy_edit\u001b[49m\u001b[43m(\u001b[49m\u001b[43msegy_file\u001b[49m\u001b[43m)\u001b[49m\n",
      "File \u001b[1;32m~\\gitclones\\sst-examples\\.pixi\\envs\\default\\Lib\\site-packages\\deltaseis\\tools\\segy_editor.py:52\u001b[0m, in \u001b[0;36mSegy_edit.__init__\u001b[1;34m(self, segy_filepath)\u001b[0m\n\u001b[0;32m     50\u001b[0m \u001b[38;5;28;01mdef\u001b[39;00m \u001b[38;5;21m__init__\u001b[39m(\u001b[38;5;28mself\u001b[39m, segy_filepath):\n\u001b[0;32m     51\u001b[0m     \u001b[38;5;66;03m# parse the segy file\u001b[39;00m\n\u001b[1;32m---> 52\u001b[0m     \u001b[38;5;28mself\u001b[39m\u001b[38;5;241m.\u001b[39msegy_filepath, \u001b[38;5;28mself\u001b[39m\u001b[38;5;241m.\u001b[39mendian, \u001b[38;5;28mself\u001b[39m\u001b[38;5;241m.\u001b[39mdata_sample_format \u001b[38;5;241m=\u001b[39m \u001b[43mparse_segy\u001b[49m\u001b[43m(\u001b[49m\u001b[43msegy_filepath\u001b[49m\u001b[43m)\u001b[49m\n\u001b[0;32m     54\u001b[0m     \u001b[38;5;66;03m#open segy file with parsing results\u001b[39;00m\n\u001b[0;32m     55\u001b[0m     \u001b[38;5;28mself\u001b[39m\u001b[38;5;241m.\u001b[39msrc \u001b[38;5;241m=\u001b[39m segyio\u001b[38;5;241m.\u001b[39mopen(\u001b[38;5;28mself\u001b[39m\u001b[38;5;241m.\u001b[39msegy_filepath, ignore_geometry\u001b[38;5;241m=\u001b[39m\u001b[38;5;28;01mTrue\u001b[39;00m, endian\u001b[38;5;241m=\u001b[39m\u001b[38;5;28mself\u001b[39m\u001b[38;5;241m.\u001b[39mendian)\n",
      "File \u001b[1;32m~\\gitclones\\sst-examples\\.pixi\\envs\\default\\Lib\\site-packages\\deltaseis\\readers\\parser_seismic_segy.py:39\u001b[0m, in \u001b[0;36mparse_segy\u001b[1;34m(segy_filepath)\u001b[0m\n\u001b[0;32m     36\u001b[0m segy_filepath \u001b[38;5;241m=\u001b[39m Path(segy_filepath)\n\u001b[0;32m     38\u001b[0m \u001b[38;5;28;01mtry\u001b[39;00m: \n\u001b[1;32m---> 39\u001b[0m     endian, byte_size, data_sample_format \u001b[38;5;241m=\u001b[39m \u001b[43mget_endianness\u001b[49m\u001b[43m(\u001b[49m\u001b[43msegy_filepath\u001b[49m\u001b[43m)\u001b[49m\n\u001b[0;32m     40\u001b[0m     \u001b[38;5;28mprint\u001b[39m(\u001b[38;5;124m'\u001b[39m\u001b[38;5;124mThe segy file has \u001b[39m\u001b[38;5;132;01m{}\u001b[39;00m\u001b[38;5;124m endian byte order\u001b[39m\u001b[38;5;124m'\u001b[39m\u001b[38;5;241m.\u001b[39mformat(endian))\n\u001b[0;32m     41\u001b[0m     segy_filepath_out \u001b[38;5;241m=\u001b[39m segy_filepath\n",
      "File \u001b[1;32m~\\gitclones\\sst-examples\\.pixi\\envs\\default\\Lib\\site-packages\\deltaseis\\readers\\parser_seismic_segy.py:125\u001b[0m, in \u001b[0;36mget_endianness\u001b[1;34m(segy_filepath)\u001b[0m\n\u001b[0;32m    122\u001b[0m \u001b[38;5;28;01mimport\u001b[39;00m \u001b[38;5;21;01msegyio\u001b[39;00m\n\u001b[0;32m    124\u001b[0m \u001b[38;5;28;01mtry\u001b[39;00m: \n\u001b[1;32m--> 125\u001b[0m     \u001b[38;5;28;01mwith\u001b[39;00m \u001b[43msegyio\u001b[49m\u001b[38;5;241;43m.\u001b[39;49m\u001b[43mopen\u001b[49m\u001b[43m(\u001b[49m\u001b[43msegy_filepath\u001b[49m\u001b[43m,\u001b[49m\u001b[43m \u001b[49m\u001b[43mignore_geometry\u001b[49m\u001b[38;5;241;43m=\u001b[39;49m\u001b[38;5;28;43;01mTrue\u001b[39;49;00m\u001b[43m,\u001b[49m\u001b[43m \u001b[49m\u001b[43mendian\u001b[49m\u001b[38;5;241;43m=\u001b[39;49m\u001b[38;5;124;43m'\u001b[39;49m\u001b[38;5;124;43mbig\u001b[39;49m\u001b[38;5;124;43m'\u001b[39;49m\u001b[43m)\u001b[49m \u001b[38;5;28;01mas\u001b[39;00m big:\n\u001b[0;32m    126\u001b[0m         endian\u001b[38;5;241m=\u001b[39m \u001b[38;5;124m'\u001b[39m\u001b[38;5;124mbig\u001b[39m\u001b[38;5;124m'\u001b[39m\n\u001b[0;32m    127\u001b[0m         byte_size, data_sample_format \u001b[38;5;241m=\u001b[39m get_data_sample_format(big\u001b[38;5;241m.\u001b[39mbin[\u001b[38;5;241m3225\u001b[39m])\n",
      "File \u001b[1;32m~\\gitclones\\sst-examples\\.pixi\\envs\\default\\Lib\\site-packages\\segyio\\open.py:162\u001b[0m, in \u001b[0;36mopen\u001b[1;34m(filename, mode, iline, xline, strict, ignore_geometry, endian)\u001b[0m\n\u001b[0;32m    159\u001b[0m     \u001b[38;5;28;01mraise\u001b[39;00m \u001b[38;5;167;01mValueError\u001b[39;00m(problem\u001b[38;5;241m.\u001b[39mformat(endian) \u001b[38;5;241m+\u001b[39m opts)\n\u001b[0;32m    161\u001b[0m \u001b[38;5;28;01mfrom\u001b[39;00m \u001b[38;5;21;01m.\u001b[39;00m \u001b[38;5;28;01mimport\u001b[39;00m _segyio\n\u001b[1;32m--> 162\u001b[0m fd \u001b[38;5;241m=\u001b[39m \u001b[43m_segyio\u001b[49m\u001b[38;5;241;43m.\u001b[39;49m\u001b[43msegyiofd\u001b[49m\u001b[43m(\u001b[49m\u001b[38;5;28;43mstr\u001b[39;49m\u001b[43m(\u001b[49m\u001b[43mfilename\u001b[49m\u001b[43m)\u001b[49m\u001b[43m,\u001b[49m\u001b[43m \u001b[49m\u001b[43mmode\u001b[49m\u001b[43m,\u001b[49m\u001b[43m \u001b[49m\u001b[43mendians\u001b[49m\u001b[43m[\u001b[49m\u001b[43mendian\u001b[49m\u001b[43m]\u001b[49m\u001b[43m)\u001b[49m\n\u001b[0;32m    163\u001b[0m fd\u001b[38;5;241m.\u001b[39msegyopen()\n\u001b[0;32m    164\u001b[0m metrics \u001b[38;5;241m=\u001b[39m fd\u001b[38;5;241m.\u001b[39mmetrics()\n",
      "\u001b[1;31mFileNotFoundError\u001b[0m: [Errno 2] No such file or directory"
     ]
    }
   ],
   "source": [
    "bergen = Segy_edit(segy_file)"
   ]
  },
  {
   "cell_type": "markdown",
   "id": "3cf77a69",
   "metadata": {},
   "source": [
    "### **Set new record length**\n",
    "Now we have a first peek at what the data actually look like. From this we can see that the record length extents slightly beyond the deepest usable signal. By cutting the record length we limit the file data size. This will speed up further processing and importing the data for interpretation in software like Kingdom."
   ]
  },
  {
   "cell_type": "code",
   "execution_count": null,
   "id": "ab79a48e",
   "metadata": {},
   "outputs": [],
   "source": [
    "bergen.plot(clip=0.1)           # initial plot\n",
    "bergen.set_record_length(45)    # cut the record length from 60 to 45 milliseconds\n",
    "bergen.plot(clip=0.1)           # plot after cutting record length"
   ]
  },
  {
   "cell_type": "markdown",
   "id": "310504d1",
   "metadata": {},
   "source": [
    "### **Fix coordinates and coordinate transformation**\n",
    "Now we inspect the coordinates that belong to the data traces and that are stored in the meta data of the seg-y data called 'trace headers'. In this example, the coordinates are in good shape, there are no outliers. Happy days!"
   ]
  },
  {
   "cell_type": "code",
   "execution_count": null,
   "id": "c931e942",
   "metadata": {},
   "outputs": [],
   "source": [
    "bergen.fix_navigation_median()"
   ]
  },
  {
   "cell_type": "markdown",
   "id": "8074e596",
   "metadata": {},
   "source": [
    "Now we perform a coordinate transformation on the meta data in the trace headers. Our input file has geographical coordinates (lattitude, longitude) in WGS 84 (epsg 4326) and we would like to transform these to projected coordinates (easting, northing) in WGS 84, UTM 31 N (epsg 32631)."
   ]
  },
  {
   "cell_type": "code",
   "execution_count": null,
   "id": "3514d856",
   "metadata": {},
   "outputs": [],
   "source": [
    "bergen.set_crs(4326)\n",
    "bergen.transform_coordinates(32631)"
   ]
  },
  {
   "cell_type": "markdown",
   "id": "8249f499",
   "metadata": {},
   "source": [
    "### **Import bathymetric grid**\n",
    "In the next step we will import an a ASCII (.asc) bathymetric grid of the same area where the seismic data was recorded. For all the coordinates in the meta data of the seg-y we will find the associated bathymetric depth using that grid.\n",
    "- first we set the path to the batymetric grid and then refer to that as the first argument in the read_grid method\n",
    "- then we have to set coordinate system of the seg-y, because we have just changed it to project WGS84 UTM 31 N (epsg 32631), we have to set that system!\n",
    "- then we have to set the coordinate system of the asci grid, which in this case is in geographic WGS 84 (epsg 4326)\n",
    "- as a last argument we put in the name we would like to give the output 'horizon'"
   ]
  },
  {
   "cell_type": "code",
   "execution_count": null,
   "id": "a094c906",
   "metadata": {},
   "outputs": [],
   "source": [
    "grid_path = data_folder / \"bathy_clip_bergen0111a.asc\"               # set the path of the grid, from which you would like to extract the horizon\n",
    "bergen.read_grid(grid_path, 4326, horizon_name='bathy')              # import the depths of the grids at the coordinates of the segy data\n",
    "\n",
    "bergen.x\n",
    "bergen.bathy\n",
    "\n"
   ]
  },
  {
   "cell_type": "markdown",
   "id": "17d97df4",
   "metadata": {},
   "source": [
    "### **Seabed pick**\n",
    "Now we will pick the seabed reflector in from the seismic data. This uses the obspy STA/LTA function that is used for determining onsets of earthquakes. There are several parameters, so we first print the docstring of the function to get more information. After this we can set the parameters appropriately. This can be done for any of the methods in this notebook.\n",
    "\n",
    "Then we plot the data again and the bathymetric grid depths (converted to two-way travel time) and the seabed pick are plotted automatically. We set save_plot to True for later quality control."
   ]
  },
  {
   "cell_type": "code",
   "execution_count": null,
   "id": "a5cb4c28",
   "metadata": {},
   "outputs": [],
   "source": [
    "help(bergen.get_seabed_pick)"
   ]
  },
  {
   "cell_type": "code",
   "execution_count": null,
   "id": "e2af8ffb",
   "metadata": {},
   "outputs": [],
   "source": [
    "bergen.get_seabed_pick(10, 100, 9, 3, truncate=10) # clearly this method needs beter documentation!!!\n",
    "bergen.plot(save_plot=True, clip=0.1)              # plot the data and save, clip the maximum amplitudes (this acts as a visual gain only)"
   ]
  },
  {
   "cell_type": "markdown",
   "id": "5951ccfe",
   "metadata": {},
   "source": [
    "### **Vertical corrections**\n",
    "In the next two steps we calculate and apply corrections for heave of the ship recording the seismic data and corrections for tide changes during the recording.\n"
   ]
  },
  {
   "cell_type": "markdown",
   "id": "45ca6e48",
   "metadata": {},
   "source": [
    "##### For heave correction\n",
    "- First we apply a savitsky-golay filter to the seabed pick so that it is smooths out the effect of heave (*warning*: this could also filter short wavelenght mega ripples)\n",
    "- Then we calculate the difference between the original and the smoothed seabed pick\n",
    "- The resulting difference is applied as vertical corrections to the data, which is now 'heave corrected'"
   ]
  },
  {
   "cell_type": "code",
   "execution_count": null,
   "id": "0246d380",
   "metadata": {},
   "outputs": [],
   "source": [
    "bergen.filter_horizon_savgol('seabed_pick', 'seabed_pick_savgol', 501, 4)\n",
    "bergen.calculate_difference_horizon('seabed_pick_savgol', 'seabed_pick', difference_horizon_name = 'heave')\n",
    "bergen.vertical_trace_corrections(bergen.heave)\n",
    "bergen.plot(save_plot=True, clip=0.1)"
   ]
  },
  {
   "cell_type": "markdown",
   "id": "aacf5a58",
   "metadata": {},
   "source": [
    "##### For tide correction\n",
    "- First we apply a savitsky-golay filter to the seabed pick so that it is smooths out the effect of heave (*warning*: this could also filter short wavelenght mega ripples)\n",
    "- First we calculate the difference between the bathymetric grid and the seabed pick\n",
    "- Then a very smooth trend through this resulting 'raw tide' is calculated\n",
    "- The result is the actual tide effect and is applied as a vertical correction to the data, which is now 'tide corrected' \n",
    "\n",
    "Note 1: if we would apply the raw tide to the data, the seabed would fit exactly to the bathymetric grid which seems like the perfect correction. However, for reasons beyond the scope of this tutorial, the shape of the seabed pick and the bathymetry will never be identical and 'forcing' the seismic data onto it strongly distorts the signal and **greatly reduces its interpretability**\n",
    "\n",
    "Note 2: the tide als includes vertical corrections for the changes in sensor depth that result from changes the recording vessels velocities and/or changes in sea currents."
   ]
  },
  {
   "cell_type": "code",
   "execution_count": null,
   "id": "7dcd5a5a",
   "metadata": {},
   "outputs": [],
   "source": [
    "bergen.calculate_difference_horizon('bathy', 'seabed_pick', difference_horizon_name ='tide_raw')\n",
    "bergen.filter_horizon_savgol('tide_raw', 'tide', 2001, 2)\n",
    "bergen.vertical_trace_corrections(bergen.tide)\n",
    "bergen.plot(save_plot=True, clip=0.1)"
   ]
  },
  {
   "cell_type": "markdown",
   "id": "8fb0dce3",
   "metadata": {},
   "source": [
    "The next step is to set some of the trace header meta data to industry standard, or user required values. This helps the seg-y to become more easily loadable in interpretation software."
   ]
  },
  {
   "cell_type": "code",
   "execution_count": null,
   "id": "73e71244",
   "metadata": {},
   "outputs": [],
   "source": [
    "bergen.set_endian('big')                            # set file format to have big endian byte order\n",
    "bergen.set_trace_number_in_field_record()           # set trace number in field record to 1 for single-channel data\n",
    "bergen.renumber_shotpoints()                        # populate shotpoint numbers and set to unique values per trace\n",
    "bergen.copy_source_coordinates_to_group()           # copy coordinates between coordinate trace headers\n",
    "bergen.set_scalar(-1000)                            # set the scalar for the output file"
   ]
  },
  {
   "cell_type": "markdown",
   "id": "f935229b",
   "metadata": {},
   "source": [
    "The last step is to write the results to seg-y"
   ]
  },
  {
   "cell_type": "code",
   "execution_count": null,
   "id": "1e30dbc0",
   "metadata": {},
   "outputs": [],
   "source": [
    "segy_outfile = segy_file.with_stem(segy_file.stem + \"_TUTORIAL\")    # set the path of the output seg-y file to be the same as input but with _TUTORIAL added to the name\n",
    "bergen.write(segy_outfile)                                          # write the edits to seg-y"
   ]
  },
  {
   "cell_type": "markdown",
   "id": "a2c9d7cb",
   "metadata": {},
   "source": [
    "After the file is written, you can load the data for inspection using freeware [Seisee](https://seisee.software.informer.com/ \"Download page Seisee\"), or load it into dedicated interpretation software like Kingdom or Petrel."
   ]
  }
 ],
 "metadata": {
  "kernelspec": {
   "display_name": "Python 3 (ipykernel)",
   "language": "python",
   "name": "python3"
  },
  "language_info": {
   "codemirror_mode": {
    "name": "ipython",
    "version": 3
   },
   "file_extension": ".py",
   "mimetype": "text/x-python",
   "name": "python",
   "nbconvert_exporter": "python",
   "pygments_lexer": "ipython3",
   "version": "3.12.7"
  }
 },
 "nbformat": 4,
 "nbformat_minor": 5
}
